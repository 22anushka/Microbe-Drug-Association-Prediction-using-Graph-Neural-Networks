{
  "cells": [
    {
      "cell_type": "markdown",
      "source": [
        "# GCN and GAT IMPLEMENTATION FOR GRAPH EMBEDDING"
      ],
      "metadata": {
        "id": "9nUIdArCEv2k"
      }
    },
    {
      "cell_type": "markdown",
      "source": [
        "## Load necessary libraries"
      ],
      "metadata": {
        "id": "SPBWrJvuEvcH"
      }
    },
    {
      "cell_type": "code",
      "execution_count": null,
      "metadata": {
        "colab": {
          "base_uri": "https://localhost:8080/"
        },
        "id": "fLxOfHNT2hMq",
        "outputId": "c471649a-c525-493e-e262-1f4d147ef324"
      },
      "outputs": [
        {
          "output_type": "stream",
          "name": "stdout",
          "text": [
            "2.1.0+cu118\n",
            "\u001b[2K     \u001b[90m━━━━━━━━━━━━━━━━━━━━━━━━━━━━━━━━━━━━━━━━\u001b[0m \u001b[32m10.2/10.2 MB\u001b[0m \u001b[31m19.5 MB/s\u001b[0m eta \u001b[36m0:00:00\u001b[0m\n",
            "\u001b[2K     \u001b[90m━━━━━━━━━━━━━━━━━━━━━━━━━━━━━━━━━━━━━━━━\u001b[0m \u001b[32m4.9/4.9 MB\u001b[0m \u001b[31m36.5 MB/s\u001b[0m eta \u001b[36m0:00:00\u001b[0m\n",
            "\u001b[?25h"
          ]
        }
      ],
      "source": [
        "import os\n",
        "import torch\n",
        "os.environ['TORCH'] = torch.__version__\n",
        "print(torch.__version__)\n",
        "\n",
        "!pip install -q torch-scatter -f https://data.pyg.org/whl/torch-${TORCH}.html\n",
        "!pip install -q torch-sparse -f https://data.pyg.org/whl/torch-${TORCH}.html\n",
        "!pip install -q git+https://github.com/pyg-team/pytorch_geometric.git"
      ]
    },
    {
      "cell_type": "code",
      "execution_count": null,
      "metadata": {
        "id": "_6_ShEW82iIN"
      },
      "outputs": [],
      "source": [
        "import numpy as np\n",
        "import torch\n",
        "import torch.nn as nn\n",
        "import torch.nn.functional as F"
      ]
    },
    {
      "cell_type": "markdown",
      "source": [
        "## Load Data"
      ],
      "metadata": {
        "id": "P6xF-mdWE9SQ"
      }
    },
    {
      "cell_type": "code",
      "execution_count": null,
      "metadata": {
        "colab": {
          "base_uri": "https://localhost:8080/"
        },
        "id": "oyXYWmng4MCx",
        "outputId": "b3642521-ba92-443b-aba6-788285a25078"
      },
      "outputs": [
        {
          "output_type": "stream",
          "name": "stdout",
          "text": [
            "<class 'torch.Tensor'>\n",
            "tensor([[   0,    1,    2,  ..., 1545, 1545, 1545],\n",
            "        [1542, 1508, 1508,  ..., 1206, 1211, 1253]])\n"
          ]
        }
      ],
      "source": [
        "input_edges = np.loadtxt(\"/content/drive/MyDrive/yr4 Design Project/final/final_adjacency_edgeindex.txt\")\n",
        "input_edges = torch.FloatTensor(input_edges)\n",
        "edge_index = input_edges.nonzero().t().contiguous()\n",
        "print(type(edge_index))\n",
        "print(edge_index)"
      ]
    },
    {
      "cell_type": "code",
      "execution_count": null,
      "metadata": {
        "colab": {
          "base_uri": "https://localhost:8080/"
        },
        "id": "eoiFGNIWIZLJ",
        "outputId": "4ae12924-13c6-4bf0-f840-e1e8fac4d63a"
      },
      "outputs": [
        {
          "name": "stdout",
          "output_type": "stream",
          "text": [
            "138.0\n"
          ]
        }
      ],
      "source": [
        "m = np.loadtxt(\"/content/drive/MyDrive/yr4 Design Project/final/microbe-microbe.txt\")\n",
        "print(np.sum(m))"
      ]
    },
    {
      "cell_type": "code",
      "execution_count": null,
      "metadata": {
        "colab": {
          "base_uri": "https://localhost:8080/"
        },
        "id": "Ngn0gX16IfIg",
        "outputId": "8f9986f6-5c21-43ed-f310-1e64cbc369af"
      },
      "outputs": [
        {
          "name": "stdout",
          "output_type": "stream",
          "text": [
            "5586.0\n"
          ]
        }
      ],
      "source": [
        "d = np.loadtxt(\"/content/drive/MyDrive/yr4 Design Project/final/drug-drug.txt\")\n",
        "print(np.sum(d))"
      ]
    },
    {
      "cell_type": "code",
      "execution_count": null,
      "metadata": {
        "colab": {
          "base_uri": "https://localhost:8080/"
        },
        "id": "a4BAKvVSIqC8",
        "outputId": "35490075-cc09-4eb6-d445-ccaa90f6e71d"
      },
      "outputs": [
        {
          "output_type": "stream",
          "name": "stdout",
          "text": [
            "2579.0\n",
            "0\n"
          ]
        }
      ],
      "source": [
        "a = np.loadtxt(\"/content/drive/MyDrive/yr4 Design Project/final/Adj_transpose.txt\")\n",
        "print(np.sum(a))\n",
        "# holds links between microbe-disease-drug as well as known mdad microbe-drug\n",
        "count=0\n",
        "for i in range(0, len(a[0])):\n",
        "  for j in range(0, len(a[1])):\n",
        "    if a[i][j] > 1:\n",
        "      print(\".\", sep=\"\")\n",
        "      count+=1\n",
        "print(count)"
      ]
    },
    {
      "cell_type": "code",
      "execution_count": null,
      "metadata": {
        "colab": {
          "base_uri": "https://localhost:8080/"
        },
        "id": "HNK4fOp7Jibu",
        "outputId": "e8c85870-6d3f-468d-c4a7-b624452b6e0d"
      },
      "outputs": [
        {
          "name": "stdout",
          "output_type": "stream",
          "text": [
            "torch.Size([2, 10882])\n",
            "tensor([[   0,    1,    2,  ..., 1545, 1545, 1545],\n",
            "        [1542, 1508, 1508,  ..., 1206, 1211, 1253]])\n"
          ]
        }
      ],
      "source": [
        "print(edge_index.shape)\n",
        "print(edge_index)"
      ]
    },
    {
      "cell_type": "code",
      "execution_count": null,
      "metadata": {
        "colab": {
          "base_uri": "https://localhost:8080/"
        },
        "id": "QREwkyV3Khnj",
        "outputId": "d988e84a-e12a-4513-9ef1-21aae8712521"
      },
      "outputs": [
        {
          "output_type": "stream",
          "name": "stdout",
          "text": [
            "188384396101137.8\n",
            "3830116\n"
          ]
        }
      ],
      "source": [
        "x = np.loadtxt(\"/content/drive/MyDrive/yr4 Design Project/final/x_new.txt\")\n",
        "print(np.sum(x)) # number of nodes, number of features\n",
        "count = 0\n",
        "for i in x.flatten():\n",
        "  if i != 0:\n",
        "    count+=1\n",
        "    # print(i)\n",
        "print(count)"
      ]
    },
    {
      "cell_type": "code",
      "execution_count": null,
      "metadata": {
        "id": "xvnPHASiHsZV"
      },
      "outputs": [],
      "source": [
        "import scipy.sparse as sp\n",
        "def normalize_features(feat):\n",
        "\n",
        "    degree = np.asarray(feat.sum(1)).flatten()\n",
        "\n",
        "    # set zeros to inf to avoid dividing by zero\n",
        "    degree[degree == 0.] = np.inf\n",
        "    degree_inv = 1. / degree\n",
        "    degree_inv_mat = sp.diags([degree_inv], [0])\n",
        "    feat_norm = degree_inv_mat.dot(feat)\n",
        "\n",
        "    return feat_norm"
      ]
    },
    {
      "cell_type": "code",
      "execution_count": null,
      "metadata": {
        "id": "xThnTenqf-Z0"
      },
      "outputs": [],
      "source": [
        "\n",
        "x_norm = torch.FloatTensor(normalize_features(x))\n",
        "indices = torch.nonzero(x_norm)\n",
        "values = x_norm[indices[:, 0], indices[:, 1]]\n",
        "# Create sparse feature matrix\n",
        "feature_size = x_norm.size()\n",
        "feature_matrix = torch.sparse.FloatTensor(indices.t(), values, feature_size)\n"
      ]
    },
    {
      "cell_type": "code",
      "execution_count": null,
      "metadata": {
        "id": "Nw2roK3Zsq68"
      },
      "outputs": [],
      "source": [
        "# # data.y will be 2D [0 A, A' 0]\n",
        "y = np.vstack((np.hstack((np.zeros((1373, 1373)), a)), np.hstack((np.transpose(a), np.zeros((173, 173))))))"
      ]
    },
    {
      "cell_type": "code",
      "execution_count": null,
      "metadata": {
        "id": "km2lzrENPE8z"
      },
      "outputs": [],
      "source": [
        "\n",
        "import scipy.sparse as sp\n",
        "def compute_symmetric_normalized_laplacian(adj):\n",
        "    # Compute the degree matrix\n",
        "\n",
        "    adj = sp.coo_matrix(adj)\n",
        "    rowsum = np.array(adj.sum(1))\n",
        "    d_inv_sqrt = np.power(rowsum, -0.5).flatten()\n",
        "    d_inv_sqrt[np.isinf(d_inv_sqrt)] = 0.0\n",
        "    d_mat_inv_sqrt = sp.diags(d_inv_sqrt)\n",
        "\n",
        "    # Compute the symmetric Laplacian\n",
        "    laplacian =  d_mat_inv_sqrt.dot(adj).dot(d_mat_inv_sqrt)\n",
        "    return laplacian.toarray()\n",
        "\n"
      ]
    },
    {
      "cell_type": "code",
      "execution_count": null,
      "metadata": {
        "id": "gGV2_8BKD1Mc"
      },
      "outputs": [],
      "source": [
        "# Normalize y\n",
        "\n",
        "z = compute_symmetric_normalized_laplacian(y)\n",
        "y = torch.FloatTensor(z)"
      ]
    },
    {
      "cell_type": "code",
      "execution_count": null,
      "metadata": {
        "colab": {
          "base_uri": "https://localhost:8080/"
        },
        "id": "VjSKzx0Mmxit",
        "outputId": "a9d2ebb8-b530-4ceb-a008-63faced5e0cd"
      },
      "outputs": [
        {
          "output_type": "stream",
          "name": "stdout",
          "text": [
            "Data(x=[1546, 3092], edge_index=[2, 10882], y=[1546, 1546])\n"
          ]
        }
      ],
      "source": [
        "from torch_geometric.data import Data\n",
        "import torch_geometric.transforms as T\n",
        "\n",
        "data = Data(x=feature_matrix, edge_index=edge_index, y = y)\n",
        "\n",
        "print(data)"
      ]
    },
    {
      "cell_type": "code",
      "execution_count": null,
      "metadata": {
        "colab": {
          "base_uri": "https://localhost:8080/"
        },
        "id": "qEUe1kPBZ-qh",
        "outputId": "a1ed6bcb-1633-4cfd-9839-7e70332a5f26"
      },
      "outputs": [
        {
          "output_type": "stream",
          "name": "stdout",
          "text": [
            "3092\n"
          ]
        }
      ],
      "source": [
        "print(data.num_node_features)"
      ]
    },
    {
      "cell_type": "code",
      "execution_count": null,
      "metadata": {
        "colab": {
          "base_uri": "https://localhost:8080/"
        },
        "id": "-8jw86JGK9rp",
        "outputId": "db9751e6-6bbf-4a83-bd7a-4a7468debba3"
      },
      "outputs": [
        {
          "output_type": "stream",
          "name": "stdout",
          "text": [
            "torch.Size([1546, 3092]) torch.Size([2, 10882])\n"
          ]
        }
      ],
      "source": [
        "print(data.x.shape, data.edge_index.shape)"
      ]
    },
    {
      "cell_type": "code",
      "execution_count": null,
      "metadata": {
        "colab": {
          "base_uri": "https://localhost:8080/"
        },
        "id": "xyMWatT1uT4n",
        "outputId": "44e06ff9-fe40-46b7-fe5e-2173f8c96524"
      },
      "outputs": [
        {
          "output_type": "stream",
          "name": "stdout",
          "text": [
            "tensor([[   0,    0,    0,  ..., 1545, 1545, 1545],\n",
            "        [   0,    1,    2,  ..., 3089, 3090, 3091]])\n",
            "tensor([[   0,    1,    2,  ..., 1545, 1545, 1545],\n",
            "        [1542, 1508, 1508,  ..., 1206, 1211, 1253]])\n",
            "tensor([[0., 0., 0.,  ..., 0., 0., 0.],\n",
            "        [0., 0., 0.,  ..., 0., 0., 0.],\n",
            "        [0., 0., 0.,  ..., 0., 0., 0.],\n",
            "        ...,\n",
            "        [0., 0., 0.,  ..., 0., 0., 0.],\n",
            "        [0., 0., 0.,  ..., 0., 0., 0.],\n",
            "        [0., 0., 0.,  ..., 0., 0., 0.]])\n"
          ]
        }
      ],
      "source": [
        "print((data.x).coalesce().indices())\n",
        "print(data.edge_index)\n",
        "print(data.y)"
      ]
    },
    {
      "cell_type": "markdown",
      "source": [
        "# Define class (functions) as well as NN architecture"
      ],
      "metadata": {
        "id": "g8tYkSaeFC8O"
      }
    },
    {
      "cell_type": "code",
      "execution_count": null,
      "metadata": {
        "id": "91VN0imC7xdq"
      },
      "outputs": [],
      "source": [
        "import torch\n",
        "import torch.nn.functional as F\n",
        "from torch_geometric.nn import GCNConv, GATConv\n",
        "\n",
        "class InnerProductDecoder(nn.Module):\n",
        "    def __init__(self, dropout=0.0):\n",
        "        super(InnerProductDecoder, self).__init__()\n",
        "        self.dropout = dropout\n",
        "\n",
        "    def forward(self, inputs):\n",
        "        inputs = F.dropout(inputs, p=self.dropout, training=self.training)\n",
        "        x = torch.transpose(inputs, 0, 1)\n",
        "        x = torch.matmul(inputs, x)\n",
        "        # x = torch.flatten(x)  # we dont want it flatted due to computation of kl loss\n",
        "        output = F.sigmoid(x)  #Graph2MDA used sigmoid function\n",
        "        return x\n",
        "\n",
        "# class SparseConv(nn.Module):\n",
        "#     def __init__(self, input_dim, output_dim, dropout, adj, act=torch.relu):\n",
        "#         super(SparseConv, self).__init__()\n",
        "#         self.input_dim = input_dim\n",
        "#         self.output_dim = output_dim\n",
        "#         self.dropout = dropout\n",
        "#         self.adj = adj\n",
        "#         self.act = act\n",
        "#         self.weight = nn.Parameter(torch.Tensor(input_dim, output_dim))\n",
        "#         self.reset_parameters()\n",
        "\n",
        "#     def reset_parameters(self):\n",
        "#         nn.init.xavier_uniform_(self.weight)\n",
        "\n",
        "#     def forward(self, inputs):\n",
        "#         x = inputs.to_dense()\n",
        "#         x = F.dropout(x, self.dropout, training=self.training)\n",
        "#         x = torch.mm(x, self.weight)\n",
        "#         x = torch.sparse.mm(self.adj, x)\n",
        "#         outputs = self.act(x)\n",
        "#         return outputs\n",
        "\n",
        "class GCN(torch.nn.Module):\n",
        "    def __init__(self):\n",
        "        super().__init__()\n",
        "        # self.sparse = SparseLayer(x, 1)\n",
        "        # self.sparse = SparseConv(data.num_node_features, 800, 0.4, input_edges)\n",
        "        self.conv1 = GCNConv(data.num_node_features, 800)  # input_channels = number of nodes, output_channels = number of nodes again\n",
        "        self.conv2 = GCNConv(800, 173)\n",
        "\n",
        "\n",
        "    def forward(self, data):\n",
        "        x, edge_index = data.x, data.edge_index\n",
        "        # x = self.sparse(x)\n",
        "        x = self.conv1(x, edge_index)\n",
        "        x = F.relu(x)\n",
        "        x = F.dropout(x, p = 0.4, training=self.training)\n",
        "        x = self.conv2(x, edge_index)\n",
        "\n",
        "        return x\n"
      ]
    },
    {
      "cell_type": "code",
      "source": [
        "class GAT(torch.nn.Module):\n",
        "    def __init__(self):\n",
        "        super(GAT, self).__init__()\n",
        "        self.hid = 800\n",
        "        self.in_head = 1\n",
        "        self.out_head = 1\n",
        "\n",
        "\n",
        "        self.conv1 = GATConv(data.num_features, self.hi d, heads=self.in_head, dropout=0.4)\n",
        "        self.conv2 = GATConv(self.hid*self.in_head, 173, concat=False,\n",
        "                             heads=self.out_head, dropout=0.4)\n",
        "\n",
        "    def forward(self, data):\n",
        "        x, edge_index = data.x, data.edge_index\n",
        "        x = self.conv1(x, edge_index)\n",
        "        x = F.relu(x)\n",
        "        x = F.dropout(x, p=0.4, training=self.training)\n",
        "        x = self.conv2(x, edge_index)\n",
        "\n",
        "        return x"
      ],
      "metadata": {
        "id": "4SzwNVxYJCYb"
      },
      "execution_count": null,
      "outputs": []
    },
    {
      "cell_type": "code",
      "execution_count": null,
      "metadata": {
        "colab": {
          "base_uri": "https://localhost:8080/"
        },
        "id": "QU7iDaVhDY2y",
        "outputId": "b7d0710e-73b1-4867-dc8c-6761cab2f62b"
      },
      "outputs": [
        {
          "name": "stdout",
          "output_type": "stream",
          "text": [
            "3092\n",
            "tensor([[0.0000e+00, 0.0000e+00, 0.0000e+00,  ..., 4.4481e-12, 4.6694e-17,\n",
            "         7.2605e-19],\n",
            "        [0.0000e+00, 0.0000e+00, 0.0000e+00,  ..., 4.7377e-12, 4.9734e-17,\n",
            "         7.7329e-19],\n",
            "        [0.0000e+00, 0.0000e+00, 0.0000e+00,  ..., 2.1085e-11, 2.4983e-16,\n",
            "         5.9075e-18],\n",
            "        ...,\n",
            "        [3.2826e-11, 3.2826e-11, 3.2826e-11,  ..., 0.0000e+00, 0.0000e+00,\n",
            "         0.0000e+00],\n",
            "        [2.2177e-11, 2.2177e-11, 2.2177e-11,  ..., 0.0000e+00, 0.0000e+00,\n",
            "         0.0000e+00],\n",
            "        [2.5402e-09, 2.5402e-09, 2.5402e-09,  ..., 0.0000e+00, 0.0000e+00,\n",
            "         0.0000e+00]])\n"
          ]
        }
      ],
      "source": [
        "print(data.num_node_features)\n",
        "print(x_norm)"
      ]
    },
    {
      "cell_type": "markdown",
      "source": [
        "## Run models"
      ],
      "metadata": {
        "id": "2co8CKnYFLHJ"
      }
    },
    {
      "cell_type": "code",
      "source": [
        "loss_values = list()"
      ],
      "metadata": {
        "id": "lX81v6qaJsny"
      },
      "execution_count": null,
      "outputs": []
    },
    {
      "cell_type": "code",
      "execution_count": null,
      "metadata": {
        "id": "R78vg8w47yox"
      },
      "outputs": [],
      "source": [
        "device = torch.device('cuda' if torch.cuda.is_available() else 'cpu')\n",
        "model = GCN().to(device)\n",
        "data = data.to(device)\n",
        "optimizer = torch.optim.Adam(model.parameters(), lr=0.0001, weight_decay=5e-4)\n",
        "loss_obj = nn.MSELoss()\n",
        "reconstructions = InnerProductDecoder()\n",
        "\n",
        "model.train()\n",
        "\n",
        "\n",
        "\n",
        "for epoch in range(400):\n",
        "    optimizer.zero_grad()\n",
        "    out = model(data) # embedding\n",
        "    op = reconstructions(out)\n",
        "    print(\"Training \", epoch)\n",
        "\n",
        "    loss = loss_obj(op, data.y)\n",
        "\n",
        "    loss_values.append(loss.item())\n",
        "    loss.backward()\n",
        "    optimizer.step()"
      ]
    },
    {
      "cell_type": "code",
      "source": [
        "device = torch.device('cuda' if torch.cuda.is_available() else 'cpu')\n",
        "model = GAT().to(device)\n",
        "data = data.to(device)\n",
        "optimizer = torch.optim.Adam(model.parameters(), lr=0.0001, weight_decay=5e-4)\n",
        "\n",
        "loss_obj = nn.MSELoss()\n",
        "reconstructions = InnerProductDecoder()\n",
        "\n",
        "\n",
        "model.train()\n",
        "\n",
        "\n",
        "\n",
        "for epoch in range(400):\n",
        "    optimizer.zero_grad()\n",
        "    out = model(data) # embedding\n",
        "    op = reconstructions(out)\n",
        "\n",
        "    loss = loss_obj(op, data.y)\n",
        "\n",
        "    loss_values.append(loss.item())\n",
        "    loss.backward()\n",
        "    optimizer.step()"
      ],
      "metadata": {
        "id": "SG3RUTWwJNDP",
        "collapsed": true
      },
      "execution_count": null,
      "outputs": []
    },
    {
      "cell_type": "code",
      "execution_count": null,
      "metadata": {
        "colab": {
          "base_uri": "https://localhost:8080/"
        },
        "id": "ogleuk5u7E5l",
        "outputId": "34e352c7-1068-491f-85fb-9ba82223e061"
      },
      "outputs": [
        {
          "output_type": "stream",
          "name": "stdout",
          "text": [
            "tensor([[ 0.0010,  0.0010,  0.0010,  ..., -0.0004,  0.0004,  0.0004],\n",
            "        [ 0.0010,  0.0010,  0.0010,  ..., -0.0004,  0.0004,  0.0004],\n",
            "        [ 0.0010,  0.0010,  0.0010,  ..., -0.0004,  0.0004,  0.0004],\n",
            "        ...,\n",
            "        [-0.0004, -0.0004, -0.0004,  ...,  0.0015,  0.0002, -0.0001],\n",
            "        [ 0.0004,  0.0004,  0.0004,  ...,  0.0002,  0.0006,  0.0003],\n",
            "        [ 0.0004,  0.0004,  0.0004,  ..., -0.0001,  0.0003,  0.0011]],\n",
            "       grad_fn=<MmBackward0>)\n",
            "tensor([[0., 0., 0.,  ..., 0., 0., 0.],\n",
            "        [0., 0., 0.,  ..., 0., 0., 0.],\n",
            "        [0., 0., 0.,  ..., 0., 0., 0.],\n",
            "        ...,\n",
            "        [0., 0., 0.,  ..., 0., 0., 0.],\n",
            "        [0., 0., 0.,  ..., 0., 0., 0.],\n",
            "        [0., 0., 0.,  ..., 0., 0., 0.]])\n",
            "6.373337237164378e-05\n"
          ]
        }
      ],
      "source": [
        "print(op)\n",
        "print(data.y)\n",
        "print(loss_obj(op, data.y).item())"
      ]
    },
    {
      "cell_type": "code",
      "execution_count": null,
      "metadata": {
        "id": "OEEbk582Bhrp",
        "colab": {
          "base_uri": "https://localhost:8080/"
        },
        "outputId": "1ac9f8be-0c2b-454a-a99c-fca1c52f72f4"
      },
      "outputs": [
        {
          "output_type": "stream",
          "name": "stdout",
          "text": [
            "tensor([[-0.0024,  0.0038, -0.0015,  ..., -0.0009, -0.0038, -0.0017],\n",
            "        [-0.0024,  0.0038, -0.0015,  ..., -0.0009, -0.0038, -0.0017],\n",
            "        [-0.0024,  0.0038, -0.0015,  ..., -0.0009, -0.0038, -0.0017],\n",
            "        ...,\n",
            "        [-0.0014, -0.0045, -0.0011,  ...,  0.0032,  0.0067,  0.0008],\n",
            "        [ 0.0005,  0.0025, -0.0016,  ..., -0.0051,  0.0017, -0.0016],\n",
            "        [ 0.0024,  0.0009, -0.0024,  ..., -0.0035, -0.0032,  0.0001]],\n",
            "       grad_fn=<AddBackward0>)\n",
            "torch.Size([1546, 173])\n"
          ]
        }
      ],
      "source": [
        "print(out)\n",
        "print(out.shape)"
      ]
    },
    {
      "cell_type": "code",
      "execution_count": null,
      "metadata": {
        "id": "YVtn1jZvYJrK"
      },
      "outputs": [],
      "source": [
        "output = out.detach().numpy()\n",
        "np.savetxt(\"/content/gat_newx_400_22_lowloss.txt\", output)"
      ]
    },
    {
      "cell_type": "code",
      "source": [
        "np.savetxt(\"/content/loss_gcn_lowloss.txt\", np.array(loss_values))"
      ],
      "metadata": {
        "id": "-woLk6F_YE0X"
      },
      "execution_count": null,
      "outputs": []
    },
    {
      "cell_type": "markdown",
      "source": [
        "## Evaluation"
      ],
      "metadata": {
        "id": "87NNMzga8mQh"
      }
    },
    {
      "cell_type": "code",
      "source": [
        "new_emb = np.loadtxt(\"gat_newx_400_22_lowloss.txt\")\n",
        "new_adj = np.loadtxt(\"Adj_transpose_anushka.txt\")\n",
        "print(new_emb.shape)\n",
        "print(new_adj.shape)\n",
        "#print(np.sum(new_adj,axis=0))\n",
        "labels = new_adj\n",
        "k_folds = k_folds\n",
        "# split data into train and test\n",
        "num_test = int(np.floor(labels.shape[0] / k_folds))\n",
        "num_train = labels.shape[0] - num_test\n",
        "embeddings = new_emb\n",
        "\n",
        "all_idx = list(range(labels.shape[0]))#:only drug ids\n",
        "print(labels.shape[0])\n",
        "print(all_idx)#0-1372\n",
        "print(num_test)#137\n",
        "print(num_train)#1236\n",
        "perf_list = []\n",
        "print(\"###################################\")\n",
        "print(f'features:{features.shape}')#1546,3092\n",
        "print(f'embedding:{embeddings.shape}')#1546,173\n",
        "print(f'labels:{labels.shape}')#1373,173\n",
        "\n",
        "for k in range(k_folds):\n",
        "    print(\"------this is %dth cross validation------\" % (k + 1))\n",
        "    np.random.seed(k)\n",
        "    np.random.shuffle(all_idx)#shuffle ids of drugs\n",
        "\n",
        "    train_idx = all_idx[:num_train]#0:1236\n",
        "    test_idx = all_idx[num_train:(num_train + num_test)]#1236-1372\n",
        "\n",
        "    Y_train = labels[train_idx]\n",
        "\n",
        "    print(Y_train.shape)#1236,173\n",
        "    Y_test = labels[test_idx]\n",
        "    X_train = embeddings[train_idx]\n",
        "    X_test = embeddings[test_idx]\n",
        "    print(f'X_train:{X_train.shape}')\n",
        "    print(f'Y_train:{Y_train.shape}')\n",
        "    print(f'X_test:{X_test.shape}')\n",
        "\n",
        "    print('....train_nn....')\n",
        "    y_score = train_nn(X_train, Y_train, X_test, Y_test)\n",
        "    print(f'Predicted prob:{y_score.shape}')\n",
        "    print(\"---------------------------------\")\n",
        "    print('....evalution....')\n",
        "\n",
        "    y_pred = [int(item > threshold) for item in y_score.flatten()]\n",
        "    print(np.array(y_pred).shape)#no.of test drugs cross microbes\n",
        "    #print(y_pred)\n",
        "    perf = evaluate_performance_two(Y_test, y_pred, y_score)\n",
        "    print(perf)\n",
        "    perf_list.append(perf)\n",
        "print(\"###################################\")\n",
        "perf_result = get_max_avg_results(perf_list)\n",
        "\n",
        "save_path = os.path.join(\"results_\" + str(model_name))\n",
        "version = '0506'\n",
        "with open(\"results/\" + version + '/' + save_path + \"_\" + version + \".json\", \"w\") as f:\n",
        "    json.dump(perf_result, f)\n"
      ],
      "metadata": {
        "id": "uv-2W6Au8-L4"
      },
      "execution_count": null,
      "outputs": []
    },
    {
      "cell_type": "markdown",
      "source": [
        "{'ppv': 0.0, 'accuracy': 0.9411839162904518, 'precision': 0.12358803986710963, 'recall': 0.7126436781609196, 'aupr': 0.09123865874964422, 'AUCPR': 0.41969807073503906, 'auc': 0.8281861735514495, 'f1-score': 0.21064552661381652}"
      ],
      "metadata": {
        "id": "smp0m6O5-Z-l"
      }
    }
  ],
  "metadata": {
    "colab": {
      "provenance": []
    },
    "gpuClass": "standard",
    "kernelspec": {
      "display_name": "Python 3",
      "name": "python3"
    },
    "language_info": {
      "name": "python"
    }
  },
  "nbformat": 4,
  "nbformat_minor": 0
}